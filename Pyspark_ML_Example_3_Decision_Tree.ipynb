{
 "cells": [
  {
   "cell_type": "code",
   "execution_count": 1,
   "metadata": {},
   "outputs": [],
   "source": [
    "from __future__ import print_function\n",
    "\n",
    "from pyspark.ml.regression import DecisionTreeRegressor\n",
    "from pyspark.sql import SparkSession\n",
    "from pyspark.ml.feature import VectorAssembler"
   ]
  },
  {
   "cell_type": "code",
   "execution_count": 2,
   "metadata": {},
   "outputs": [],
   "source": [
    "# Create a SparkSession (Note, the config section is only for Windows!)\n",
    "spark = SparkSession.builder.appName(\"DecisionTree\").getOrCreate()"
   ]
  },
  {
   "cell_type": "code",
   "execution_count": 3,
   "metadata": {},
   "outputs": [],
   "source": [
    "# Load up data as dataframe\n",
    "data = spark.read.csv(\"realestate.csv\",header=True,inferSchema=True)\n",
    "\n",
    "assembler = VectorAssembler().setInputCols([\"HouseAge\", \"DistanceToMRT\", \\\n",
    "                           \"NumberConvenienceStores\"]).setOutputCol(\"features\")\n",
    "\n",
    "df = assembler.transform(data).select(\"PriceOfUnitArea\", \"features\")\n",
    "\n",
    "# Let's split our data into training data and testing data\n",
    "trainTest = df.randomSplit([0.5, 0.5])\n",
    "trainingDF = trainTest[0]\n",
    "testDF = trainTest[1]"
   ]
  },
  {
   "cell_type": "code",
   "execution_count": 4,
   "metadata": {},
   "outputs": [
    {
     "name": "stdout",
     "output_type": "stream",
     "text": [
      "+---------------+--------------------+\n",
      "|PriceOfUnitArea|            features|\n",
      "+---------------+--------------------+\n",
      "|           37.9|[32.0,84.87882,10.0]|\n",
      "|           42.2| [19.5,306.5947,9.0]|\n",
      "|           47.3| [13.3,561.9845,5.0]|\n",
      "|           54.8| [13.3,561.9845,5.0]|\n",
      "|           43.1|  [5.0,390.5684,5.0]|\n",
      "|           32.1|   [7.1,2175.03,3.0]|\n",
      "|           40.3| [34.5,623.4731,7.0]|\n",
      "|           46.7| [20.3,287.6025,6.0]|\n",
      "|           18.8| [31.7,5512.038,1.0]|\n",
      "|           22.1|  [17.9,1783.18,3.0]|\n",
      "|           41.4| [34.8,405.2134,1.0]|\n",
      "|           58.1|  [6.3,90.45606,9.0]|\n",
      "|           39.3| [13.0,492.2313,5.0]|\n",
      "|           23.8| [20.4,2469.645,4.0]|\n",
      "|           34.3| [13.2,1164.838,4.0]|\n",
      "|           50.5| [35.7,579.2083,2.0]|\n",
      "|           70.1|  [0.0,292.9978,6.0]|\n",
      "|           37.4| [17.7,350.8515,1.0]|\n",
      "|           42.3| [16.9,368.1363,8.0]|\n",
      "|           47.7|  [1.5,23.38284,7.0]|\n",
      "+---------------+--------------------+\n",
      "only showing top 20 rows\n",
      "\n"
     ]
    }
   ],
   "source": [
    "df.show()"
   ]
  },
  {
   "cell_type": "code",
   "execution_count": 5,
   "metadata": {},
   "outputs": [],
   "source": [
    "# Now create our decision tree\n",
    "dtr = DecisionTreeRegressor().setFeaturesCol(\"features\").setLabelCol(\"PriceOfUnitArea\")\n",
    "\n",
    "# Train the model using our training data\n",
    "model = dtr.fit(trainingDF)"
   ]
  },
  {
   "cell_type": "code",
   "execution_count": null,
   "metadata": {},
   "outputs": [],
   "source": []
  }
 ],
 "metadata": {
  "kernelspec": {
   "display_name": "Python 3",
   "language": "python",
   "name": "python3"
  },
  "language_info": {
   "codemirror_mode": {
    "name": "ipython",
    "version": 3
   },
   "file_extension": ".py",
   "mimetype": "text/x-python",
   "name": "python",
   "nbconvert_exporter": "python",
   "pygments_lexer": "ipython3",
   "version": "3.8.5"
  }
 },
 "nbformat": 4,
 "nbformat_minor": 4
}
